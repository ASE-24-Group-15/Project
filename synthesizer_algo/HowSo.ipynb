{
  "nbformat": 4,
  "nbformat_minor": 0,
  "metadata": {
    "colab": {
      "provenance": []
    },
    "kernelspec": {
      "name": "python3",
      "display_name": "Python 3"
    },
    "language_info": {
      "name": "python"
    }
  },
  "cells": [
    {
      "cell_type": "code",
      "source": [
        "pip install howso-engine"
      ],
      "metadata": {
        "id": "vjzJ4q0nuuHr"
      },
      "execution_count": null,
      "outputs": []
    },
    {
      "cell_type": "code",
      "execution_count": null,
      "metadata": {
        "id": "nxRo4NChufaH"
      },
      "outputs": [],
      "source": [
        "import pandas as pd\n",
        "from howso import engine\n",
        "from howso.engine import Trainee\n",
        "from howso.utilities import infer_feature_attributes\n",
        "import os"
      ]
    },
    {
      "cell_type": "code",
      "source": [
        "from google.colab import drive\n",
        "drive.mount('/content/drive')"
      ],
      "metadata": {
        "colab": {
          "base_uri": "https://localhost:8080/"
        },
        "id": "OM1nhqSMxrXa",
        "outputId": "e76e5bad-acfe-43f8-ac9f-9b5d53c7645d"
      },
      "execution_count": null,
      "outputs": [
        {
          "output_type": "stream",
          "name": "stdout",
          "text": [
            "Drive already mounted at /content/drive; to attempt to forcibly remount, call drive.mount(\"/content/drive\", force_remount=True).\n"
          ]
        }
      ]
    },
    {
      "cell_type": "code",
      "source": [
        "df_original  = pd.read_csv(\"/content/drive/MyDrive/Proj_Data/Dtlz/dtlz5.csv\")\n",
        "output_directory = f'/content/drive/MyDrive/Proj_Data/Dtlz/dtlz5/HowSo'\n",
        "if not os.path.exists(output_directory):\n",
        "    os.makedirs(output_directory)\n",
        "\n",
        "df = df_original.iloc[:int(0.8*len(df_original))]\n",
        "features = infer_feature_attributes(df)\n",
        "t = Trainee(\n",
        "    features=features,\n",
        "    overwrite_existing=True\n",
        ")\n",
        "# Train\n",
        "t.train(df)\n",
        "t.analyze()\n",
        "for i in range(1, 21):\n",
        "  synth = t.react(action_features=df.columns.tolist(),\n",
        "                desired_conviction=5,\n",
        "                generate_new_cases='attempt',\n",
        "                num_cases_to_generate=len(df_original))\n",
        "  synthetic_data_filename = f'synthetic_data_mutated_{i}.csv'\n",
        "  synthetic_data_path = os.path.join(output_directory, synthetic_data_filename)\n",
        "  synthetic_data = synth['action']\n",
        "  synthetic_data.to_csv(synthetic_data_path,index=False)"
      ],
      "metadata": {
        "id": "NUwvPpTmujB9"
      },
      "execution_count": null,
      "outputs": []
    }
  ]
}