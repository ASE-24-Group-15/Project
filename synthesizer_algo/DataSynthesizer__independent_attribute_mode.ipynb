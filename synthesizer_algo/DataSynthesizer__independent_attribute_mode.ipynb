{
  "cells": [
    {
      "cell_type": "markdown",
      "metadata": {
        "id": "1JNNadqf7XrW"
      },
      "source": [
        "# DataSynthesizer Usage (independent attribute mode)\n",
        "\n",
        "> This is a quick demo to use DataSynthesizer in independent attribute mode.\n",
        "\n",
        "### Step 1 import packages"
      ]
    },
    {
      "cell_type": "code",
      "source": [
        "pip install DataSynthesizer"
      ],
      "metadata": {
        "colab": {
          "base_uri": "https://localhost:8080/"
        },
        "id": "WuTBUTTe7Y6O",
        "outputId": "4147e33a-d404-46fa-cf3d-80a68b11c883"
      },
      "execution_count": null,
      "outputs": [
        {
          "output_type": "stream",
          "name": "stdout",
          "text": [
            "Collecting DataSynthesizer\n",
            "  Downloading DataSynthesizer-0.1.13-py2.py3-none-any.whl (24 kB)\n",
            "Requirement already satisfied: numpy>=1.18.5 in /usr/local/lib/python3.10/dist-packages (from DataSynthesizer) (1.25.2)\n",
            "Requirement already satisfied: pandas>=1.0.5 in /usr/local/lib/python3.10/dist-packages (from DataSynthesizer) (2.0.3)\n",
            "Requirement already satisfied: scikit-learn>=0.23.1 in /usr/local/lib/python3.10/dist-packages (from DataSynthesizer) (1.2.2)\n",
            "Requirement already satisfied: matplotlib>=3.2.2 in /usr/local/lib/python3.10/dist-packages (from DataSynthesizer) (3.7.1)\n",
            "Requirement already satisfied: seaborn>=0.10.1 in /usr/local/lib/python3.10/dist-packages (from DataSynthesizer) (0.13.1)\n",
            "Requirement already satisfied: python-dateutil>=2.8.1 in /usr/local/lib/python3.10/dist-packages (from DataSynthesizer) (2.8.2)\n",
            "Requirement already satisfied: contourpy>=1.0.1 in /usr/local/lib/python3.10/dist-packages (from matplotlib>=3.2.2->DataSynthesizer) (1.2.1)\n",
            "Requirement already satisfied: cycler>=0.10 in /usr/local/lib/python3.10/dist-packages (from matplotlib>=3.2.2->DataSynthesizer) (0.12.1)\n",
            "Requirement already satisfied: fonttools>=4.22.0 in /usr/local/lib/python3.10/dist-packages (from matplotlib>=3.2.2->DataSynthesizer) (4.51.0)\n",
            "Requirement already satisfied: kiwisolver>=1.0.1 in /usr/local/lib/python3.10/dist-packages (from matplotlib>=3.2.2->DataSynthesizer) (1.4.5)\n",
            "Requirement already satisfied: packaging>=20.0 in /usr/local/lib/python3.10/dist-packages (from matplotlib>=3.2.2->DataSynthesizer) (24.0)\n",
            "Requirement already satisfied: pillow>=6.2.0 in /usr/local/lib/python3.10/dist-packages (from matplotlib>=3.2.2->DataSynthesizer) (9.4.0)\n",
            "Requirement already satisfied: pyparsing>=2.3.1 in /usr/local/lib/python3.10/dist-packages (from matplotlib>=3.2.2->DataSynthesizer) (3.1.2)\n",
            "Requirement already satisfied: pytz>=2020.1 in /usr/local/lib/python3.10/dist-packages (from pandas>=1.0.5->DataSynthesizer) (2023.4)\n",
            "Requirement already satisfied: tzdata>=2022.1 in /usr/local/lib/python3.10/dist-packages (from pandas>=1.0.5->DataSynthesizer) (2024.1)\n",
            "Requirement already satisfied: six>=1.5 in /usr/local/lib/python3.10/dist-packages (from python-dateutil>=2.8.1->DataSynthesizer) (1.16.0)\n",
            "Requirement already satisfied: scipy>=1.3.2 in /usr/local/lib/python3.10/dist-packages (from scikit-learn>=0.23.1->DataSynthesizer) (1.11.4)\n",
            "Requirement already satisfied: joblib>=1.1.1 in /usr/local/lib/python3.10/dist-packages (from scikit-learn>=0.23.1->DataSynthesizer) (1.4.0)\n",
            "Requirement already satisfied: threadpoolctl>=2.0.0 in /usr/local/lib/python3.10/dist-packages (from scikit-learn>=0.23.1->DataSynthesizer) (3.4.0)\n",
            "Installing collected packages: DataSynthesizer\n",
            "Successfully installed DataSynthesizer-0.1.13\n"
          ]
        }
      ]
    },
    {
      "cell_type": "code",
      "execution_count": null,
      "metadata": {
        "id": "SujpRejk7XrX"
      },
      "outputs": [],
      "source": [
        "from DataSynthesizer.DataDescriber import DataDescriber\n",
        "from DataSynthesizer.DataGenerator import DataGenerator\n",
        "from DataSynthesizer.ModelInspector import ModelInspector\n",
        "from DataSynthesizer.lib.utils import read_json_file, display_bayesian_network\n",
        "import os\n",
        "import pandas as pd"
      ]
    },
    {
      "cell_type": "code",
      "source": [
        "from google.colab import drive\n",
        "drive.mount('/content/drive')"
      ],
      "metadata": {
        "colab": {
          "base_uri": "https://localhost:8080/"
        },
        "id": "0d8jsjSI7d2H",
        "outputId": "7d0cb509-ef0b-4092-9d57-be1842784cfe"
      },
      "execution_count": null,
      "outputs": [
        {
          "output_type": "stream",
          "name": "stdout",
          "text": [
            "Drive already mounted at /content/drive; to attempt to forcibly remount, call drive.mount(\"/content/drive\", force_remount=True).\n"
          ]
        }
      ]
    },
    {
      "cell_type": "markdown",
      "metadata": {
        "id": "qgjBQiPI7XrY"
      },
      "source": [
        "### Step 2 user-defined parameteres"
      ]
    },
    {
      "cell_type": "code",
      "execution_count": null,
      "metadata": {
        "id": "jln7EsCt7XrY"
      },
      "outputs": [],
      "source": [
        "# input dataset\n",
        "input_data_path = '/content/drive/MyDrive/Proj_Data/Dtlz/dtlz5.csv'\n",
        "# location of two output files\n",
        "mode = 'independent_attribute_mode'\n",
        "output_directory = f'/content/drive/MyDrive/Proj_Data/Dtlz/dtlz5/out/{mode}'\n",
        "if not os.path.exists(output_directory):\n",
        "    os.makedirs(output_directory)\n",
        "\n",
        "# Now you can use the output directory to construct the file paths\n",
        "description_file = os.path.join(output_directory, 'description.json')\n",
        "synthetic_data = os.path.join(output_directory, 'synthetic_data.csv')"
      ]
    },
    {
      "cell_type": "code",
      "source": [
        "input_data = pd.read_csv(input_data_path)\n",
        "\n",
        "# Determine characteristics of the dataset\n",
        "num_tuples = len(input_data)\n",
        "num_columns = len(input_data.columns)\n",
        "num_unique_values = input_data.nunique()\n",
        "max_unique_values = num_unique_values.max()\n",
        "\n",
        "# Calculate threshold_value based on the dataset's characteristics\n",
        "threshold_value = max(10, max_unique_values)\n",
        "\n",
        "# Identify categorical attributes\n",
        "categorical_attributes = {}\n",
        "for column in input_data.columns:\n",
        "    if input_data[column].dtype == 'object' or num_unique_values[column] < threshold_value:\n",
        "        categorical_attributes[column] = True\n",
        "    else:\n",
        "        categorical_attributes[column] = False\n",
        "\n",
        "# Identify candidate keys\n",
        "candidate_keys = {}\n",
        "for column in input_data.columns:\n",
        "    # You may need to adjust the condition based on your dataset's characteristics\n",
        "    if column.lower() == 'id' or column.lower().endswith('_id'):\n",
        "        candidate_keys[column] = True\n",
        "    else:\n",
        "        candidate_keys[column] = False\n",
        "\n",
        "# Set num_tuples_to_generate to match the number of tuples in the input dataset\n",
        "num_tuples_to_generate = num_tuples"
      ],
      "metadata": {
        "id": "tfbkp0-N8JuB"
      },
      "execution_count": null,
      "outputs": []
    },
    {
      "cell_type": "code",
      "source": [
        "# Generate and save synthetic datasets 20 times\n",
        "for i in range(1, 21):\n",
        "    describer = DataDescriber(category_threshold=threshold_value)\n",
        "    describer.describe_dataset_in_independent_attribute_mode(dataset_file=input_data_path,\n",
        "                                                             attribute_to_is_categorical=categorical_attributes,\n",
        "                                                             attribute_to_is_candidate_key=candidate_keys)\n",
        "    describer.save_dataset_description_to_file(description_file)\n",
        "\n",
        "    generator = DataGenerator()\n",
        "    synthetic_data_filename = f'synthetic_data_mutated_{i}.csv'\n",
        "    synthetic_data_path = os.path.join(output_directory, synthetic_data_filename)\n",
        "    generator.generate_dataset_in_independent_mode(num_tuples_to_generate, description_file)\n",
        "    generator.save_synthetic_data(synthetic_data_path)"
      ],
      "metadata": {
        "id": "gAVv4ZP6_S7-"
      },
      "execution_count": null,
      "outputs": []
    }
  ],
  "metadata": {
    "kernelspec": {
      "display_name": "Python 3",
      "language": "python",
      "name": "python3"
    },
    "language_info": {
      "codemirror_mode": {
        "name": "ipython",
        "version": 3
      },
      "file_extension": ".py",
      "mimetype": "text/x-python",
      "name": "python",
      "nbconvert_exporter": "python",
      "pygments_lexer": "ipython3",
      "version": "3.8.6"
    },
    "colab": {
      "provenance": []
    }
  },
  "nbformat": 4,
  "nbformat_minor": 0
}